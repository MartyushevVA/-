{
  "nbformat": 4,
  "nbformat_minor": 0,
  "metadata": {
    "colab": {
      "provenance": []
    },
    "kernelspec": {
      "name": "python3",
      "display_name": "Python 3"
    },
    "language_info": {
      "name": "python"
    }
  },
  "cells": [
    {
      "cell_type": "markdown",
      "source": [
        "# Домашнее задание по кластеризации"
      ],
      "metadata": {
        "id": "M57jBUotL_jB"
      }
    },
    {
      "cell_type": "markdown",
      "source": [
        "Набор данных содержит сведения о 9000 клиентов банка.\n",
        "\n",
        "Колонки в датасете:\n",
        "- CUSTID : Identification of Credit Card holder (Categorical)\n",
        "- BALANCE : Balance amount left in their account to make purchases (\n",
        "- BALANCEFREQUENCY : How frequently the Balance is updated, score between 0 and 1 (1 = frequently updated, 0 = not frequently updated)\n",
        "- PURCHASES : Amount of purchases made from account\n",
        "- ONEOFFPURCHASES : Maximum purchase amount done in one-go\n",
        "- INSTALLMENTSPURCHASES : Amount of purchase done in installment\n",
        "- CASHADVANCE : Cash in advance given by the user\n",
        "- PURCHASESFREQUENCY : How frequently the Purchases are being made, score between 0 and 1 (1 = frequently purchased, 0 = not frequently purchased)\n",
        "- ONEOFFPURCHASESFREQUENCY : How frequently Purchases are happening in one-go (1 = frequently purchased, 0 = not frequently purchased)\n",
        "- PURCHASESINSTALLMENTSFREQUENCY : How frequently purchases in installments are being done (1 = frequently done, 0 = not frequently done)\n",
        "- CASHADVANCEFREQUENCY : How frequently the cash in advance being paid\n",
        "- CASHADVANCETRX : Number of Transactions made with \"Cash in Advanced\"\n",
        "- PURCHASESTRX : Numbe of purchase transactions made\n",
        "- CREDITLIMIT : Limit of Credit Card for user\n",
        "- PAYMENTS : Amount of Payment done by user\n",
        "- MINIMUM_PAYMENTS : Minimum amount of payments made by user\n",
        "- PRCFULLPAYMENT : Percent of full payment paid by user\n",
        "- TENURE : Tenure of credit card service for user"
      ],
      "metadata": {
        "id": "wKPvbnzKMDnN"
      }
    },
    {
      "cell_type": "code",
      "source": [
        "import pandas as pd\n",
        "\n",
        "url = \"https://raw.githubusercontent.com/Adelaaas/Data_science_basic_22-23_1/main/home_work_7-8_clustering/Credit%20Card%20Dataset.csv\"\n",
        "df = pd.read_csv(url)"
      ],
      "metadata": {
        "id": "HQaU2c8JnSiL"
      },
      "execution_count": 9,
      "outputs": []
    },
    {
      "cell_type": "markdown",
      "source": [
        "## Задания"
      ],
      "metadata": {
        "id": "bFGoZP8xMoYK"
      }
    },
    {
      "cell_type": "markdown",
      "source": [
        "### Задание 1.\n",
        "\n",
        "Провести исследование данных (в том числе с визуализацией, к исследованию должны быть даны выводы и комментарии, все графики и оси должны быть подписаны)."
      ],
      "metadata": {
        "id": "PUAfF6sMMcM8"
      }
    },
    {
      "cell_type": "code",
      "execution_count": null,
      "metadata": {
        "id": "zVstNcOaL4Id"
      },
      "outputs": [],
      "source": [
        "# ПРИМЕР\n",
        "\n",
        "# Исследуем данные на пропуски\n",
        "df.isna().sum()\n",
        "\n",
        "# Видим что в данных есть пропуски\n",
        "# описать что вы будете делать с этими пропусками"
      ]
    },
    {
      "cell_type": "code",
      "source": [
        "import matplotlib.pyplot as plt\n",
        "import seaborn as sns\n",
        "\n",
        "plt.figure(figsize=(10,6))\n",
        "sns.displot(\n",
        "    data=df.isna().melt(value_name=\"missing\"),\n",
        "    y=\"variable\",\n",
        "    hue=\"missing\",\n",
        "    multiple=\"fill\",\n",
        "    aspect=1.25\n",
        ")"
      ],
      "metadata": {
        "id": "AW8WOhxRNRa5"
      },
      "execution_count": null,
      "outputs": []
    },
    {
      "cell_type": "markdown",
      "source": [
        "### Задание 2\n",
        "\n",
        "Реализовать метод кластарезации KMeans:\n",
        "1. Методом локтя и силуется (в том числе с использованием графиков) оценить оптимальное число кластеров и обосновать его.\n",
        "2. Построить точечный график объектов до кластеризации и после с цветовым разделением на кластеры. Для построения графиков придется взять только две переменные как признаки, но строить кластеризацию не обязательно на двух переменных. \n",
        "\n",
        "P.s. все графики должны быть подписанны и к ним должны прилагаться выводы."
      ],
      "metadata": {
        "id": "F0Nlbys7NWZb"
      }
    },
    {
      "cell_type": "code",
      "source": [
        "from sklearn.cluster import KMeans\n",
        "#df = df.drop(columns = 'CUST_ID')\n",
        "df = df[df.isnull() == False]\n",
        "\n",
        "# kmeans = KMeans(n_clusters=3)\n",
        "# kmeans.fit(df)\n",
        "# Y_pred = kmeans.labels_\n",
        "# Y_pred\n",
        "SSE = []\n",
        "for k in range(1,9):\n",
        "    kmeans = KMeans(n_clusters = k)\n",
        "    kmeans.fit(df)\n",
        "    SSE.append(kmeans.inertia_)\n",
        "plt.plot(range(1,9), SSE, marker='s');\n",
        "plt.xlabel('k')\n",
        "plt.ylabel('SSE');\n",
        "plt.show()\n",
        "\n"
      ],
      "metadata": {
        "id": "hCOu6tTCqCVn"
      },
      "execution_count": null,
      "outputs": []
    },
    {
      "cell_type": "markdown",
      "source": [
        "### Задание 3\n",
        "\n",
        "Реализовать иерархический метод кластарезации:\n",
        "1. Должны быть построены дендрограммы и обоснован выбор количества кластеров.\n",
        "2. Построить точечный график объектов до кластеризации и после с цветовым разделением на кластеры. Для построения графиков придется взять только две переменные как признаки, но строить кластеризацию не обязательно на двух переменных.\n",
        "\n",
        "P.s. все графики должны быть подписанны и к ним должны прилагаться выводы."
      ],
      "metadata": {
        "id": "oP-dVUF1NWdc"
      }
    }
  ]
}